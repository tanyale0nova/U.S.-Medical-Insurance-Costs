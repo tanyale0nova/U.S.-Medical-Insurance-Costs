{
 "cells": [
  {
   "cell_type": "markdown",
   "metadata": {},
   "source": [
    "# U.S. Medical Insurance Costs"
   ]
  },
  {
   "cell_type": "markdown",
   "metadata": {},
   "source": [
    "For this project, I will be investigating a medical insurance costs dataset in a .csv file using the Python skills."
   ]
  },
  {
   "cell_type": "markdown",
   "metadata": {},
   "source": [
    "## Extract data from csv!;0"
   ]
  },
  {
   "cell_type": "code",
   "execution_count": 1,
   "metadata": {},
   "outputs": [],
   "source": [
    "import csv\n",
    "with open('insurance.csv') as insurance_file:\n",
    "    insurance_data = csv.DictReader(insurance_file)\n",
    "    age = []\n",
    "    sex = []\n",
    "    bmi = []\n",
    "    children = []\n",
    "    smoker = []\n",
    "    region = []\n",
    "    charges = []\n",
    "    for column in insurance_data:\n",
    "        age.append(column['age'])\n",
    "        sex.append(column['sex'])\n",
    "        bmi.append(column['bmi'])\n",
    "        children.append(column['children'])\n",
    "        smoker.append(column['smoker'])\n",
    "        region.append(column['region'])\n",
    "        charges.append(column['charges'])"
   ]
  },
  {
   "cell_type": "markdown",
   "metadata": {},
   "source": [
    "The file given, \"insurance.csv\", contains the following data for each individual considered:\n",
    "\n",
    "- age: integer number\n",
    "- sex: male/female\n",
    "- bmi: float number\n",
    "- number of children: integer number\n",
    "- smoker: yes/no\n",
    "- region: northwest/southwest/northeast/southeast\n",
    "- charges: float number"
   ]
  },
  {
   "cell_type": "code",
   "execution_count": 2,
   "metadata": {},
   "outputs": [
    {
     "name": "stdout",
     "output_type": "stream",
     "text": [
      "1338\n"
     ]
    }
   ],
   "source": [
    "total_population = len(age)\n",
    "print(total_population)"
   ]
  },
  {
   "cell_type": "markdown",
   "metadata": {},
   "source": [
    "We just checked how big the number of records is."
   ]
  },
  {
   "cell_type": "markdown",
   "metadata": {},
   "source": [
    "## Let's evaluate the data in each column:)"
   ]
  },
  {
   "cell_type": "markdown",
   "metadata": {},
   "source": [
    "#### Categorical variables:"
   ]
  },
  {
   "cell_type": "code",
   "execution_count": 3,
   "metadata": {},
   "outputs": [],
   "source": [
    "def percantage(number):\n",
    "    return round(number / total_population, 3)"
   ]
  },
  {
   "cell_type": "code",
   "execution_count": 4,
   "metadata": {},
   "outputs": [
    {
     "name": "stdout",
     "output_type": "stream",
     "text": [
      "Number of men: 676. This is 0.505% of all records.\n",
      "Number of women: 662. This is 0.495% of all records.\n"
     ]
    }
   ],
   "source": [
    "male_count = sex.count('male')\n",
    "female_count = sex.count('female')\n",
    "\n",
    "male_count_prc = percantage(male_count)\n",
    "female_count_prc = percantage(female_count)\n",
    "\n",
    "# In order not to create a separate variable, we can use this method:\n",
    "# print('Number of people with 5 clidren: {}. This is {}% of the total number of insured people.'.format(fife_cildren_count, percantage(fife_cildren_count)))\n",
    "print('Number of men: {male_count}. This is {male_count_prc}% of all records.'.format(male_count=male_count, male_count_prc=male_count_prc))\n",
    "print('Number of women: {female_count}. This is {female_count_prc}% of all records.'.format(female_count=female_count, female_count_prc=female_count_prc))"
   ]
  },
  {
   "cell_type": "markdown",
   "metadata": {},
   "source": [
    "Half of the population are males and another half of population are females. "
   ]
  },
  {
   "cell_type": "code",
   "execution_count": 5,
   "metadata": {},
   "outputs": [
    {
     "name": "stdout",
     "output_type": "stream",
     "text": [
      "Number of smokers: 274. This is 0.205% of all records.\n",
      "Number of non-smokers: 1064. This is 0.795% of all records.\n"
     ]
    }
   ],
   "source": [
    "smoker_count = smoker.count('yes')\n",
    "non_smoker_count = smoker.count('no')\n",
    "\n",
    "smoker_count_prc = percantage(smoker_count)\n",
    "non_smoker_count_prc = percantage(non_smoker_count)\n",
    "\n",
    "print('Number of smokers: {smoker_count}. This is {smoker_count_prc}% of all records.'.format(smoker_count=smoker_count, smoker_count_prc=smoker_count_prc))\n",
    "print('Number of non-smokers: {non_smoker_count}. This is {non_smoker_count_prc}% of all records.'.format(non_smoker_count=non_smoker_count,non_smoker_count_prc=non_smoker_count_prc))"
   ]
  },
  {
   "cell_type": "markdown",
   "metadata": {},
   "source": [
    "The number of non-smokers is much higher than the number of smokers. Smokers make up only 1/8 of the total."
   ]
  },
  {
   "cell_type": "code",
   "execution_count": 6,
   "metadata": {},
   "outputs": [
    {
     "name": "stdout",
     "output_type": "stream",
     "text": [
      "Number of people from southwest region: 325. This is 0.243% of all records.\n",
      "Number of people from southeast region: 364. This is 0.272% of all records.\n",
      "Number of people from northwest region: 325. This is 0.243% of all records.\n",
      "Number of people from northeast region: 324. This is 0.242% of all records.\n"
     ]
    }
   ],
   "source": [
    "southwest_count = region.count('southwest')\n",
    "southeast_count = region.count('southeast')\n",
    "northwest_count = region.count('northwest')\n",
    "northeast_count = region.count('northeast')\n",
    "\n",
    "southwest_count_prc = percantage(southwest_count)\n",
    "southeast_count_prc = percantage(southeast_count)\n",
    "northwest_count_prc = percantage(northwest_count)\n",
    "northeast_count_prc = percantage(northeast_count)\n",
    "\n",
    "print('Number of people from southwest region: {southwest_count}. This is {southwest_count_prc}% of all records.'.format(southwest_count=southwest_count,southwest_count_prc=southwest_count_prc))\n",
    "print('Number of people from southeast region: {southeast_count}. This is {southeast_count_prc}% of all records.'.format(southeast_count=southeast_count, southeast_count_prc=southeast_count_prc))\n",
    "print('Number of people from northwest region: {northwest_count}. This is {northwest_count_prc}% of all records.'.format(northwest_count=northwest_count, northwest_count_prc=northwest_count_prc))\n",
    "print('Number of people from northeast region: {northeast_count}. This is {northeast_count_prc}% of all records.'.format(northeast_count=northeast_count, northeast_count_prc=northeast_count_prc))"
   ]
  },
  {
   "cell_type": "markdown",
   "metadata": {},
   "source": [
    "The regional distribution is even."
   ]
  },
  {
   "cell_type": "markdown",
   "metadata": {},
   "source": [
    "#### Numerical variables:"
   ]
  },
  {
   "cell_type": "code",
   "execution_count": 7,
   "metadata": {},
   "outputs": [
    {
     "name": "stdout",
     "output_type": "stream",
     "text": [
      "Number of people with underweight bmi: 21. This is 0.016% of all records.\n",
      "Number of people with normal weight bmi: 221. This is 0.165% of all records.\n",
      "Number of people with overweight bmi: 377. This is 0.282% of all records.\n",
      "Number of people with obesity bmi: 707. This is 0.528% of all records.\n"
     ]
    }
   ],
   "source": [
    "# Underweight = <18.5\n",
    "# Normal weight = 18.5–24.9\n",
    "# Overweight = 25–29.9\n",
    "# Obesity = BMI of 30 or greater\n",
    "\n",
    "def bmi_rating(bmi):\n",
    "    \n",
    "    by_bmi = {'Underweight': [],\n",
    "             'Normal weight': [],\n",
    "             'Overweight': [],\n",
    "             'Obesity': []\n",
    "             }\n",
    "    \n",
    "    for num in bmi:\n",
    "        if float(num) <= 18.5:\n",
    "            by_bmi['Underweight'].append(num)\n",
    "        elif float(num) > 18.5 and float(num) <= 24.9:\n",
    "            by_bmi['Normal weight'].append(num)\n",
    "        elif float(num) >= 25 and float(num) <= 29.9:\n",
    "            by_bmi['Overweight'].append(num)\n",
    "        elif float(num) >= 30:\n",
    "            by_bmi['Obesity'].append(num)\n",
    "            \n",
    "    return by_bmi\n",
    "            \n",
    "\n",
    "bmi_rating_dict = bmi_rating(bmi)\n",
    "# print(bmi_rating_dict)\n",
    "\n",
    "underweight_count = len(bmi_rating_dict['Underweight'])\n",
    "normalweight_count = len(bmi_rating_dict['Normal weight'])\n",
    "overweight_count = len(bmi_rating_dict['Overweight'])\n",
    "obesity_count = len(bmi_rating_dict['Obesity'])\n",
    "\n",
    "underweight_count_prc = percantage(underweight_count)\n",
    "normalweight_count_prc = percantage(normalweight_count)\n",
    "overweight_count_prc = percantage(overweight_count)\n",
    "obesity_count_prc = percantage(obesity_count)\n",
    "\n",
    "print('Number of people with underweight bmi: {underweight_count}. This is {underweight_count_prc}% of all records.'.format(underweight_count=underweight_count,underweight_count_prc=underweight_count_prc))\n",
    "print('Number of people with normal weight bmi: {normalweight_count}. This is {normalweight_count_prc}% of all records.'.format(normalweight_count=normalweight_count,normalweight_count_prc=normalweight_count_prc))\n",
    "print('Number of people with overweight bmi: {overweight_count}. This is {overweight_count_prc}% of all records.'.format(overweight_count=overweight_count,overweight_count_prc=overweight_count_prc))\n",
    "print('Number of people with obesity bmi: {obesity_count}. This is {obesity_count_prc}% of all records.'.format(obesity_count=obesity_count,obesity_count_prc=obesity_count_prc))\n"
   ]
  },
  {
   "cell_type": "markdown",
   "metadata": {},
   "source": [
    "Body Mass Index (BMI) is a person's weight in kilograms (or pounds) divided by the square of height in meters (or feet). A high BMI can indicate high body fatness. BMI screens for weight categories that may lead to health problems, but it does not diagnose the body fatness or health of an individual.\n",
    "\n",
    "We see that people with obesity occupy as much as 1/2 of the total number. This indicates an unhealthy state of the body. The saddest thing is that the normal weight is less than 1/5 of all records."
   ]
  },
  {
   "cell_type": "code",
   "execution_count": 8,
   "metadata": {},
   "outputs": [
    {
     "name": "stdout",
     "output_type": "stream",
     "text": [
      "Number of people without children: 574. This is 0.429% of all records.\n",
      "Number of people with 1 child: 324. This is 0.242% of all records.\n",
      "Number of people with 2 children: 240. This is 0.179% of all records.\n",
      "Number of people with 3 children: 157. This is 0.117% of all records.\n",
      "Number of people with 4 children: 25. This is 0.019% of all records.\n",
      "Number of people with 5 children: 18. This is 0.013% of all records.\n"
     ]
    }
   ],
   "source": [
    "def children_rating(children):\n",
    "    \n",
    "    by_children = {0: [],\n",
    "                  1: [],\n",
    "                  2: [],\n",
    "                  3: [],\n",
    "                  4: [],\n",
    "                  5: []\n",
    "                 }\n",
    "    \n",
    "    for num in children:\n",
    "        if int(num) == 0:\n",
    "            by_children[0].append(num)\n",
    "        elif int(num) == 1:\n",
    "            by_children[1].append(num)\n",
    "        elif int(num) == 2:\n",
    "            by_children[2].append(num)\n",
    "        elif int(num) == 3:\n",
    "            by_children[3].append(num)\n",
    "        elif int(num) == 4:\n",
    "            by_children[4].append(num)\n",
    "        elif int(num) == 5:\n",
    "            by_children[5].append(num)\n",
    "            \n",
    "    return by_children\n",
    "\n",
    "\n",
    "by_children_dict = children_rating(children)\n",
    "# print(by_cildren_dict)\n",
    "\n",
    "zero_children_count = len(by_children_dict[0])\n",
    "one_children_count = len(by_children_dict[1])\n",
    "two_children_count = len(by_children_dict[2])\n",
    "three_children_count = len(by_children_dict[3])\n",
    "four_children_count = len(by_children_dict[4])\n",
    "fife_children_count = len(by_children_dict[5])\n",
    "\n",
    "zero_children_count_prc = percantage(zero_children_count)\n",
    "one_children_count_prc = percantage(one_children_count)\n",
    "two_children_count_prc = percantage(two_children_count)\n",
    "three_children_count_prc = percantage(three_children_count)\n",
    "four_children_count_prc = percantage(four_children_count)\n",
    "fife_children_count_prc = percantage(fife_children_count)\n",
    "\n",
    "print('Number of people without children: {zero_children_count}. This is {zero_children_count_prc}% of all records.'.format(zero_children_count=zero_children_count,zero_children_count_prc=zero_children_count_prc))\n",
    "print('Number of people with 1 child: {one_children_count}. This is {one_children_count_prc}% of all records.'.format(one_children_count=one_children_count,one_children_count_prc=one_children_count_prc))\n",
    "print('Number of people with 2 children: {two_children_count}. This is {two_children_count_prc}% of all records.'.format(two_children_count=two_children_count,two_children_count_prc=two_children_count_prc))\n",
    "print('Number of people with 3 children: {three_children_count}. This is {three_children_count_prc}% of all records.'.format(three_children_count=three_children_count,three_children_count_prc=three_children_count_prc))\n",
    "print('Number of people with 4 children: {four_children_count}. This is {four_children_count_prc}% of all records.'.format(four_children_count=four_children_count,four_children_count_prc=four_children_count_prc))\n",
    "print('Number of people with 5 children: {fife_children_count}. This is {fife_children_count_prc}% of all records.'.format(fife_children_count=fife_children_count,fife_children_count_prc=fife_children_count_prc))\n"
   ]
  },
  {
   "cell_type": "markdown",
   "metadata": {},
   "source": [
    "Almost half of insured people are without children, 1/4 have one child and only 0.15% have 3, 4 or 5 children."
   ]
  },
  {
   "cell_type": "code",
   "execution_count": 9,
   "metadata": {},
   "outputs": [
    {
     "name": "stdout",
     "output_type": "stream",
     "text": [
      "Number of people aged between 18 and 24: 278. This is 0.208% of all records.\n",
      "Number of people aged between 25 and 34: 271. This is 0.203% of all records.\n",
      "Number of people aged between 35 and 44: 260. This is 0.194% of all records.\n",
      "Number of people aged between 45 and 54: 287. This is 0.214% of all records.\n",
      "Number of people aged between 55 and 64: 242. This is 0.181% of all records.\n"
     ]
    }
   ],
   "source": [
    "# 18 to 24 include\n",
    "# 25 to 34 include\n",
    "# 35 to 44 include\n",
    "# 45 to 55 include\n",
    "# 55 to 64 include\n",
    "\n",
    "def min_max_age(age):\n",
    "    age_sorted = age.sort()\n",
    "    return age[0], age[-1]\n",
    "# print(min_max_age(age))\n",
    "\n",
    "def age_rating(age):\n",
    "    \n",
    "    by_age = {'before 18': [],\n",
    "              '18 to 24': [],\n",
    "              '25 to 34': [],\n",
    "              '35 to 44': [],\n",
    "              '45 to 54': [],\n",
    "              '55 to 64': [],\n",
    "              'after 64': []\n",
    "              }\n",
    "    \n",
    "    for num in age:\n",
    "        if int(num) < 18:\n",
    "            by_age['before 18'].append(num)\n",
    "        elif int(num) >= 18 and int(num) <= 24:\n",
    "            by_age['18 to 24'].append(num)\n",
    "        elif int(num) >= 25 and int(num) <= 34:\n",
    "            by_age['25 to 34'].append(num)\n",
    "        elif int(num) >= 35 and int(num) <= 44:\n",
    "            by_age['35 to 44'].append(num)\n",
    "        elif int(num) >= 45 and int(num) <= 54:\n",
    "            by_age['45 to 54'].append(num)\n",
    "        elif int(num) >= 55 and int(num) <= 64:\n",
    "            by_age['55 to 64'].append(num)\n",
    "        elif int(num) > 64:\n",
    "            by_age['after 64'].append(num)\n",
    "\n",
    "    return by_age\n",
    "\n",
    "\n",
    "by_age_dict = age_rating(age)\n",
    "# print(by_age_dict)\n",
    "\n",
    "age_18_to_24_count = len(by_age_dict['18 to 24'])\n",
    "age_25_to_34_count = len(by_age_dict['25 to 34'])\n",
    "age_35_to_44_count = len(by_age_dict['35 to 44'])\n",
    "age_45_to_54_count = len(by_age_dict['45 to 54'])\n",
    "age_55_to_64_count = len(by_age_dict['55 to 64'])\n",
    "\n",
    "age_18_to_24_count_prc = percantage(age_18_to_24_count)\n",
    "age_25_to_34_count_prc = percantage(age_25_to_34_count)\n",
    "age_35_to_44_count_prc = percantage(age_35_to_44_count)\n",
    "age_45_to_54_count_prc = percantage(age_45_to_54_count)\n",
    "age_55_to_64_count_prc = percantage(age_55_to_64_count)\n",
    "\n",
    "print('Number of people aged between 18 and 24: {age_18_to_24_count}. This is {age_18_to_24_count_prc}% of all records.'.format(age_18_to_24_count=age_18_to_24_count,age_18_to_24_count_prc=age_18_to_24_count_prc))\n",
    "print('Number of people aged between 25 and 34: {age_25_to_34_count}. This is {age_25_to_34_count_prc}% of all records.'.format(age_25_to_34_count=age_25_to_34_count,age_25_to_34_count_prc=age_25_to_34_count_prc))\n",
    "print('Number of people aged between 35 and 44: {age_35_to_44_count}. This is {age_35_to_44_count_prc}% of all records.'.format(age_35_to_44_count=age_35_to_44_count,age_35_to_44_count_prc=age_35_to_44_count_prc))\n",
    "print('Number of people aged between 45 and 54: {age_45_to_54_count}. This is {age_45_to_54_count_prc}% of all records.'.format(age_45_to_54_count=age_45_to_54_count,age_45_to_54_count_prc=age_45_to_54_count_prc))\n",
    "print('Number of people aged between 55 and 64: {age_55_to_64_count}. This is {age_55_to_64_count_prc}% of all records.'.format(age_55_to_64_count=age_55_to_64_count,age_55_to_64_count_prc=age_55_to_64_count_prc))\n"
   ]
  },
  {
   "cell_type": "markdown",
   "metadata": {},
   "source": [
    "The number of people in each age category is approximately the same."
   ]
  },
  {
   "cell_type": "markdown",
   "metadata": {},
   "source": [
    "## And now let's analyze the impact of characteristics on the cost of insurance:)0)"
   ]
  },
  {
   "cell_type": "markdown",
   "metadata": {},
   "source": [
    "**Main questions:**\n",
    "\n",
    "- Who is more incline to spend an higher amount of money in health insurance?\n",
    "- What affect most the costs of health insurance?\n",
    "- How can those people save money from that cost?\n",
    "\n",
    "Let's create functions to help us display the desired statistics."
   ]
  },
  {
   "cell_type": "code",
   "execution_count": 10,
   "metadata": {},
   "outputs": [
    {
     "name": "stdout",
     "output_type": "stream",
     "text": [
      "[1121.8739, 1131.5066, 1135.9407]\n",
      "[60021.39897, 62592.87309, 63770.42801]\n"
     ]
    }
   ],
   "source": [
    "num_charges = []\n",
    "\n",
    "for i in charges:\n",
    "    num_charges.append(float(i))\n",
    "    \n",
    "sorted_charges = sorted(num_charges)\n",
    "print(sorted_charges[:3])\n",
    "print(sorted_charges[-3:])"
   ]
  },
  {
   "cell_type": "markdown",
   "metadata": {},
   "source": [
    "Three lowest and highest charges."
   ]
  },
  {
   "cell_type": "code",
   "execution_count": 11,
   "metadata": {},
   "outputs": [
    {
     "name": "stdout",
     "output_type": "stream",
     "text": [
      "{'age': '18', 'sex': 'male', 'bmi': '23.21', 'children': '0', 'smoker': 'no', 'region': 'southeast'}\n",
      "{'age': '18', 'sex': 'male', 'bmi': '30.14', 'children': '0', 'smoker': 'no', 'region': 'southeast'}\n",
      "{'age': '18', 'sex': 'male', 'bmi': '33.33', 'children': '0', 'smoker': 'no', 'region': 'southeast'}\n",
      "{'age': '54', 'sex': 'female', 'bmi': '47.41', 'children': '0', 'smoker': 'yes', 'region': 'southeast'}\n",
      "{'age': '45', 'sex': 'male', 'bmi': '30.36', 'children': '0', 'smoker': 'yes', 'region': 'southeast'}\n",
      "{'age': '52', 'sex': 'male', 'bmi': '34.485', 'children': '3', 'smoker': 'yes', 'region': 'northwest'}\n"
     ]
    }
   ],
   "source": [
    "def create_dict(charges, age, sex, bmi, children, smoker, region):\n",
    "    charges_key = {}\n",
    "    for i in range(len(charges)):\n",
    "        charges_key[charges[i]] = {\n",
    "            'age': age[i],\n",
    "            'sex': sex[i],\n",
    "            'bmi': bmi[i],\n",
    "            'children': children[i],\n",
    "            'smoker': smoker[i],\n",
    "            'region': region[i],\n",
    "#             'charges': charges[i]\n",
    "        }\n",
    "        \n",
    "    return charges_key\n",
    "\n",
    "charges_key_dict = create_dict(charges, age, sex, bmi, children, smoker, region)\n",
    "print(charges_key_dict['1121.8739'])\n",
    "print(charges_key_dict['1131.5066'])\n",
    "print(charges_key_dict['1135.9407'])\n",
    "\n",
    "print(charges_key_dict['63770.42801'])\n",
    "print(charges_key_dict['62592.87309'])\n",
    "print(charges_key_dict['60021.39897'])\n",
    "\n"
   ]
  },
  {
   "cell_type": "markdown",
   "metadata": {},
   "source": [
    "The next step is to retrieve the data records corresponding to their key from the dictionary.\n",
    "\n",
    "The values are different, so we cannot determine a clear trend. \n",
    "**But we can make a few observations**:\n",
    "- The lowest insurance charges among eighteen-year-old and non-smoking guys living in the southeastern region, and as a fact, bmi is the only feature that distinguishes them, which will affect the increase in the insurance charges.\n",
    "- The highest insurance charges belongs to smokers with obesity over the age of 45."
   ]
  },
  {
   "cell_type": "code",
   "execution_count": 12,
   "metadata": {},
   "outputs": [
    {
     "name": "stdout",
     "output_type": "stream",
     "text": [
      "1121.8739\n",
      "63770.42801\n"
     ]
    }
   ],
   "source": [
    "def min_value(list):\n",
    "    min = float('inf')\n",
    "    for item in list:\n",
    "        if float(item) < min:\n",
    "            min = float(item)\n",
    "    return min\n",
    "\n",
    "def max_value(list):\n",
    "    max = float('-inf')\n",
    "    for item in list:\n",
    "        if float(item) > max:\n",
    "            max = float(item)\n",
    "    return max\n",
    "\n",
    "print(min_value(charges))\n",
    "print(max_value(charges))"
   ]
  },
  {
   "cell_type": "markdown",
   "metadata": {},
   "source": [
    "As we already know **the lowest** cost is **1121.8739** dollares and **the highest** cost is **63770.42801** dollares."
   ]
  },
  {
   "cell_type": "code",
   "execution_count": 13,
   "metadata": {},
   "outputs": [
    {
     "name": "stdout",
     "output_type": "stream",
     "text": [
      "13270.4\n"
     ]
    }
   ],
   "source": [
    "def average(list):\n",
    "    sum = 0\n",
    "    for item in list:\n",
    "        sum += float(item)\n",
    "    average = round((sum / len(list)), 1)\n",
    "    return average\n",
    "\n",
    "average_charges = average(charges)\n",
    "print(average_charges)"
   ]
  },
  {
   "cell_type": "markdown",
   "metadata": {},
   "source": [
    "The **average** insurance cost is **13270.4** dollares."
   ]
  },
  {
   "cell_type": "code",
   "execution_count": 14,
   "metadata": {},
   "outputs": [
    {
     "name": "stdout",
     "output_type": "stream",
     "text": [
      "9377.9047\n"
     ]
    }
   ],
   "source": [
    "def mediana(sorted_charges):\n",
    "    return sorted_charges[int((((total_population / 2) - 1) + (total_population / 2)) / 2)]\n",
    "mediana_charges = mediana(sorted_charges)\n",
    "print(mediana_charges)"
   ]
  },
  {
   "cell_type": "markdown",
   "metadata": {},
   "source": [
    "The **median** insurance cost is **9377.9047** dollares."
   ]
  },
  {
   "cell_type": "markdown",
   "metadata": {},
   "source": [
    "#### Let's find out the influence of various factors on the final cost!"
   ]
  },
  {
   "cell_type": "code",
   "execution_count": 15,
   "metadata": {},
   "outputs": [],
   "source": [
    "def difference(x, y):\n",
    "    return x - y"
   ]
  },
  {
   "cell_type": "code",
   "execution_count": 16,
   "metadata": {},
   "outputs": [],
   "source": [
    "def average_cat_var(list1, list2, condition):\n",
    "    list1_list2 = list(zip(list1, list2))\n",
    "    values = []\n",
    "    for item in list1_list2:\n",
    "        if item[0] == condition:\n",
    "            values.append(item[1])\n",
    "    average_for_values = average(values)\n",
    "    return average_for_values"
   ]
  },
  {
   "cell_type": "code",
   "execution_count": 17,
   "metadata": {},
   "outputs": [
    {
     "name": "stdout",
     "output_type": "stream",
     "text": [
      "The average insurance charges for women in the records is 12569.6 dollars.\n",
      "The average insurance charges for men in the records is 13956.8 dollars.\n"
     ]
    }
   ],
   "source": [
    "women_average_charges = average_cat_var(sex, charges, 'female')\n",
    "men_average_charges = average_cat_var(sex, charges, 'male')\n",
    "\n",
    "print(\"The average insurance charges for women in the records is \" + str(women_average_charges) + \" dollars.\")\n",
    "print(\"The average insurance charges for men in the records is \" + str(men_average_charges) + \" dollars.\")"
   ]
  },
  {
   "cell_type": "code",
   "execution_count": 18,
   "metadata": {},
   "outputs": [
    {
     "name": "stdout",
     "output_type": "stream",
     "text": [
      "1387.199999999999\n"
     ]
    }
   ],
   "source": [
    "print(difference(men_average_charges, women_average_charges))"
   ]
  },
  {
   "cell_type": "markdown",
   "metadata": {},
   "source": [
    "Conclusion: **gender affects the insurance charges**. The average cost for women is 1387.20 dollares less than for men."
   ]
  },
  {
   "cell_type": "code",
   "execution_count": 19,
   "metadata": {},
   "outputs": [
    {
     "name": "stdout",
     "output_type": "stream",
     "text": [
      "The average insurance charges for smokers is 32050.2 dollars.\n",
      "The average insurance charges for non-smokers is 8434.3 dollars.\n"
     ]
    }
   ],
   "source": [
    "smokers_average_charges = average_cat_var(smoker, charges, 'yes')\n",
    "non_smokers_average_charges = average_cat_var(smoker, charges, 'no')\n",
    "\n",
    "print(\"The average insurance charges for smokers is \" + str(smokers_average_charges) + \" dollars.\")\n",
    "print(\"The average insurance charges for non-smokers is \" + str(non_smokers_average_charges) + \" dollars.\")\n"
   ]
  },
  {
   "cell_type": "code",
   "execution_count": 20,
   "metadata": {},
   "outputs": [
    {
     "name": "stdout",
     "output_type": "stream",
     "text": [
      "23615.9\n"
     ]
    }
   ],
   "source": [
    "print(difference(smokers_average_charges, non_smokers_average_charges))"
   ]
  },
  {
   "cell_type": "markdown",
   "metadata": {},
   "source": [
    "The average insurance cost for non-smokers is almost 4 times less than for those who smoke!\n",
    "\n",
    "Conclusion: **smoking has the biggest impact on the insurance charges**. The average cost for non-smokers is 23615.9 dollares less than for smokers."
   ]
  },
  {
   "cell_type": "code",
   "execution_count": 21,
   "metadata": {},
   "outputs": [
    {
     "name": "stdout",
     "output_type": "stream",
     "text": [
      "The average insurance charges for southwest region is 12346.9 dollars.\n",
      "The average insurance charges for southeast region is 14735.4 dollars.\n",
      "The average insurance charges for northwest region is 12417.6 dollars.\n",
      "The average insurance charges for northeast region is 13406.4 dollars.\n"
     ]
    }
   ],
   "source": [
    "southwest_average_charges = average_cat_var(region, charges, 'southwest')\n",
    "southeast_average_charges = average_cat_var(region, charges, 'southeast')\n",
    "northwest_average_charges = average_cat_var(region, charges, 'northwest')\n",
    "northeast_average_charges = average_cat_var(region, charges, 'northeast')\n",
    "\n",
    "print(\"The average insurance charges for southwest region is \" + str(southwest_average_charges) + \" dollars.\")\n",
    "print(\"The average insurance charges for southeast region is \" + str(southeast_average_charges) + \" dollars.\")\n",
    "print(\"The average insurance charges for northwest region is \" + str(northwest_average_charges) + \" dollars.\")\n",
    "print(\"The average insurance charges for northeast region is \" + str(northeast_average_charges) + \" dollars.\")"
   ]
  },
  {
   "cell_type": "markdown",
   "metadata": {},
   "source": [
    "Higher insurance costs are paid mainly in the Southeast region. Also in the western side the insurance charges are less than in the eastern. It's unlikely that the region affects the insurance charges, but the lifestyle and habits of the population in a particular region can have an impact.\n",
    "\n",
    "Conclusion: **the region doesn't have a specific impact on the insurance charges**."
   ]
  },
  {
   "cell_type": "code",
   "execution_count": 22,
   "metadata": {},
   "outputs": [],
   "source": [
    "def average_num_var(list1, list2, list3):\n",
    "    list1_list2 = list(zip(list1, list2))\n",
    "    values = []\n",
    "    for item in list1_list2:\n",
    "        if item[0] in list3:\n",
    "            values.append(item[1])\n",
    "    average_for_values = average(values)\n",
    "    return average_for_values\n"
   ]
  },
  {
   "cell_type": "code",
   "execution_count": 23,
   "metadata": {},
   "outputs": [
    {
     "name": "stdout",
     "output_type": "stream",
     "text": [
      "The average insurance charges for people with underweight bmi is 8657.6 dollars.\n",
      "The average insurance charges for people with normal weight bmi is 10404.9 dollars.\n",
      "The average insurance charges for people with overweight bmi is 10994.0 dollars.\n",
      "The average insurance charges for people with obesity bmi is 15552.3 dollars.\n"
     ]
    }
   ],
   "source": [
    "print(\"The average insurance charges for people with underweight bmi is \" + str(average_num_var(bmi, charges, bmi_rating_dict['Underweight'])) + \" dollars.\")\n",
    "print(\"The average insurance charges for people with normal weight bmi is \" + str(average_num_var(bmi, charges, bmi_rating_dict['Normal weight'])) + \" dollars.\")\n",
    "print(\"The average insurance charges for people with overweight bmi is \" + str(average_num_var(bmi, charges, bmi_rating_dict['Overweight'])) + \" dollars.\")\n",
    "print(\"The average insurance charges for people with obesity bmi is \" + str(average_num_var(bmi, charges, bmi_rating_dict['Obesity'])) + \" dollars.\")"
   ]
  },
  {
   "cell_type": "markdown",
   "metadata": {},
   "source": [
    "We see that the average value for each bmi group consistently increases, starting from the smallest.\n",
    "\n",
    "Conclusion: **the cost of insurance increases depending on the bmi** (the higher the bmi, the higher the cost)."
   ]
  },
  {
   "cell_type": "code",
   "execution_count": 24,
   "metadata": {},
   "outputs": [
    {
     "name": "stdout",
     "output_type": "stream",
     "text": [
      "The average insurance charges for people with age between 18 and 24 is 9011.3 dollars.\n",
      "The average insurance charges for people with age between 25 and 34 is 10352.4 dollars.\n",
      "The average insurance charges for people with age between 35 and 44 is 13134.2 dollars.\n",
      "The average insurance charges for people with age between 45 and 54 is 15853.9 dollars.\n",
      "The average insurance charges for people with age between 55 and 64 is 18513.3 dollars.\n"
     ]
    }
   ],
   "source": [
    "print(\"The average insurance charges for people with age between 18 and 24 is \" + str(average_num_var(age, charges, by_age_dict['18 to 24'])) + \" dollars.\")\n",
    "print(\"The average insurance charges for people with age between 25 and 34 is \" + str(average_num_var(age, charges, by_age_dict['25 to 34'])) + \" dollars.\")\n",
    "print(\"The average insurance charges for people with age between 35 and 44 is \" + str(average_num_var(age, charges, by_age_dict['35 to 44'])) + \" dollars.\")\n",
    "print(\"The average insurance charges for people with age between 45 and 54 is \" + str(average_num_var(age, charges, by_age_dict['45 to 54'])) + \" dollars.\")\n",
    "print(\"The average insurance charges for people with age between 55 and 64 is \" + str(average_num_var(age, charges, by_age_dict['55 to 64'])) + \" dollars.\")"
   ]
  },
  {
   "cell_type": "markdown",
   "metadata": {},
   "source": [
    "We see that the average value for each age group consistently increases, starting from the smallest.\n",
    "\n",
    "Conclusion: **the cost of insurance increases depending on the age** (the higher the age, the higher the cost)."
   ]
  },
  {
   "cell_type": "code",
   "execution_count": 25,
   "metadata": {},
   "outputs": [
    {
     "name": "stdout",
     "output_type": "stream",
     "text": [
      "The average insurance charges for people without children is 12366.0 dollars.\n",
      "The average insurance charges for people with 1 child is 12731.2 dollars.\n",
      "The average insurance charges for people with 2 children is 15073.6 dollars.\n",
      "The average insurance charges for people with 3 children is 15355.3 dollars.\n",
      "The average insurance charges for people with 4 children is 13850.7 dollars.\n",
      "The average insurance charges for people with 5 children is 8786.0 dollars.\n"
     ]
    }
   ],
   "source": [
    "print(\"The average insurance charges for people without children is \" + str(average_num_var(children, charges, by_children_dict[0])) + \" dollars.\")\n",
    "print(\"The average insurance charges for people with 1 child is \" + str(average_num_var(children, charges, by_children_dict[1])) + \" dollars.\")\n",
    "print(\"The average insurance charges for people with 2 children is \" + str(average_num_var(children, charges, by_children_dict[2])) + \" dollars.\")\n",
    "print(\"The average insurance charges for people with 3 children is \" + str(average_num_var(children, charges, by_children_dict[3])) + \" dollars.\")\n",
    "print(\"The average insurance charges for people with 4 children is \" + str(average_num_var(children, charges, by_children_dict[4])) + \" dollars.\")\n",
    "print(\"The average insurance charges for people with 5 children is \" + str(average_num_var(children, charges, by_children_dict[5])) + \" dollars.\")"
   ]
  },
  {
   "cell_type": "markdown",
   "metadata": {},
   "source": [
    "At first, we can see that the average price rises depending on the number of children, but after crossing the threshold of 3 children, it starts to fall. This can be explained by the fact that people with 4 or 5 children, for example, don't smoke or with normal body weight, so in this case, we should also push away from other indicators, which means they can block even such a large number as 5 children.\n",
    "\n",
    "Conclusion: **the number of children is only slightly reflected in the insurance cost**."
   ]
  },
  {
   "cell_type": "markdown",
   "metadata": {},
   "source": [
    "###  We can conclude that the best way to save money on insurance is to stop smoking and lead a healthy lifestyle to reduce bmi as much as is possible."
   ]
  }
 ],
 "metadata": {
  "kernelspec": {
   "display_name": "Python 3 (ipykernel)",
   "language": "python",
   "name": "python3"
  },
  "language_info": {
   "codemirror_mode": {
    "name": "ipython",
    "version": 3
   },
   "file_extension": ".py",
   "mimetype": "text/x-python",
   "name": "python",
   "nbconvert_exporter": "python",
   "pygments_lexer": "ipython3",
   "version": "3.11.1"
  }
 },
 "nbformat": 4,
 "nbformat_minor": 4
}
